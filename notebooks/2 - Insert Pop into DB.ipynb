{
 "cells": [
  {
   "cell_type": "markdown",
   "id": "f3b58023-e408-4fff-8a7f-6e097a536d15",
   "metadata": {},
   "source": [
    "# High Resolution Pop Density\n",
    "\n",
    "Meta's High Res Density files are poorly formatted. Multiple CSV's with duplicate locations isn't the best way to store, access or ingest this data into a spatial database. This notebook ingests the raw CSVs, converts them to parquet files and joins them based on location.\n",
    "\n",
    "See:\n",
    "https://data.humdata.org/dataset/united-states-high-resolution-population-density-maps-demographic-estimates\n",
    "\n",
    "We're going to test a new pandas-like lib called \"polars\""
   ]
  },
  {
   "cell_type": "code",
   "execution_count": 1,
   "id": "7ca2ad92-cb16-4d8b-9775-742857b5bed2",
   "metadata": {},
   "outputs": [],
   "source": [
    "# ! pip install polars"
   ]
  },
  {
   "cell_type": "code",
   "execution_count": 2,
   "id": "3f400f23-d4f7-4447-babc-f51ca3077c28",
   "metadata": {},
   "outputs": [],
   "source": [
    "import pandas as pd \n",
    "import polars as pl\n",
    "from pathlib import Path\n",
    "import os\n",
    "from pathlib import Path"
   ]
  },
  {
   "cell_type": "markdown",
   "id": "4da0fa5f-b848-444e-ab9b-a6fe1ef0a140",
   "metadata": {},
   "source": [
    "## Settings\n",
    "Below are the settings to control the actions of this script."
   ]
  },
  {
   "cell_type": "code",
   "execution_count": 17,
   "id": "e0ee3ec7-f1a2-4720-8e22-780fecce97b6",
   "metadata": {},
   "outputs": [],
   "source": [
    "csv_list = [\n",
    "            '/home/jovyan/data/HighDensityPop/USA_children_under_five_2020-03-07.csv',\n",
    "            '/home/jovyan/data/HighDensityPop/USA_youth_15_24_2020-03-07.csv',\n",
    "            '/home/jovyan/data/HighDensityPop/USA_elderly_60_plus_2020-03-07.csv',\n",
    "            '/home/jovyan/data/HighDensityPop/USA_men_2020-03-07_part_1_of_2.csv',\n",
    "            '/home/jovyan/data/HighDensityPop/USA_men_2020-03-07_part_2_of_2.csv',\n",
    "            '/home/jovyan/data/HighDensityPop/USA_women_2020-03-07_part_1_of_2.csv',\n",
    "            '/home/jovyan/data/HighDensityPop/USA_women_2020-03-07_part_2_of_2.csv',\n",
    "            '/home/jovyan/data/HighDensityPop/population_usa_2019-07-01_part_1_of_6.csv',\n",
    "            '/home/jovyan/data/HighDensityPop/population_usa_2019-07-01_part_2_of_6.csv',\n",
    "            '/home/jovyan/data/HighDensityPop/population_usa_2019-07-01_part_3_of_6.csv',\n",
    "            '/home/jovyan/data/HighDensityPop/population_usa_2019-07-01_part_4_of_6.csv',\n",
    "            '/home/jovyan/data/HighDensityPop/population_usa_2019-07-01_part_5_of_6.csv',\n",
    "            '/home/jovyan/data/HighDensityPop/population_usa_2019-07-01_part_6_of_6.csv',\n",
    "    \n",
    "           ]\n",
    "\n",
    "# howard county Envelope: POLYGON((-77.187113 39.103142,-77.187113 39.369323,-76.696774 39.369323,-76.696774 39.103142,-77.187113 39.103142)) \n",
    "llx = -76.696774\n",
    "lly = 39.103142\n",
    "\n",
    "urx = -77.187113\n",
    "ury = 39.369323\n",
    " \n",
    "HOST = '10.152.63.171'\n",
    "PORT = '5555'\n",
    "\n",
    "# HOST = '10.0.0.91'\n",
    "# PORT = '5555'\n",
    "\n",
    "DO_INSERTS = True"
   ]
  },
  {
   "cell_type": "markdown",
   "id": "876e35c2-581e-4581-bf01-b8ed04106416",
   "metadata": {},
   "source": [
    "## Steps\n",
    "\n",
    " * Read CSV file for category\n",
    " * Filter to Howard County\n",
    " * Write as Parquet"
   ]
  },
  {
   "cell_type": "code",
   "execution_count": 4,
   "id": "87f6ef48-a43a-4df6-bccc-afe0a743b0c1",
   "metadata": {},
   "outputs": [],
   "source": [
    "# for csv_in in csv_list:\n",
    "#     print(csv_in)\n",
    "#     df = pd.read_csv(csv_in)\n",
    "#     df = df.rename(columns = {'Lat':'latitude','Lon':'longitude', 'Population':'population'} )\n",
    "#     box1_cond = (lly <= df.latitude) & (df.latitude <= ury) & (urx <= df.longitude) & (df.longitude <= llx) \n",
    "#     df = df[box1_cond]\n",
    "#     file_name = Path(csv_in).stem\n",
    "#     df['type'] = file_name \n",
    "#     df.to_parquet(Path(csv_in).with_suffix('.parq'))\n",
    "# df = None"
   ]
  },
  {
   "cell_type": "markdown",
   "id": "a3ebbd3d-d6de-48b8-a5b0-b8c432679bd7",
   "metadata": {},
   "source": [
    "## Next Steps\n",
    " * Read all Parquet's into single dataframe\n",
    " * Delete 'part_1_of_2' in type column\n",
    " * Do a spatial join/reverse pivot on columns"
   ]
  },
  {
   "cell_type": "code",
   "execution_count": 5,
   "id": "512aa6a6-ad06-44dc-b747-65c22fa74ee7",
   "metadata": {},
   "outputs": [],
   "source": [
    "data_dir = Path('/home/jovyan/data/HighDensityPop/')\n",
    "full_df = pd.concat(\n",
    "    pd.read_parquet(parquet_file)\n",
    "    for parquet_file in data_dir.glob('*.parq')\n",
    ")\n"
   ]
  },
  {
   "cell_type": "code",
   "execution_count": 6,
   "id": "37bb6de7-b8df-44ac-8df2-c25481c24acc",
   "metadata": {},
   "outputs": [],
   "source": [
    "type_dict = {'USA_women_2020-03-07_part_2_of_2': 'USA_women_2020-03-07',\n",
    "             'USA_women_2020-03-07_part_1_of_2': 'USA_women_2020-03-07',\n",
    "             'USA_men_2020-03-07_part_1_of_2':'USA_men_2020-03-07',\n",
    "             'USA_children_under_five_2020-03-07':'USA_children_under_five_2020-03-07', \n",
    "             'USA_youth_15_24_2020-03-07':'USA_youth_15_24_2020-03-07',\n",
    "             'USA_men_2020-03-07_part_2_of_2':'USA_men_2020-03-07', \n",
    "             'USA_elderly_60_plus_2020-03-07':'USA_elderly_60_plus_2020-03-07',\n",
    "             'population_usa_2019-07-01_part_1_of_6':'USA_total_2019-07-01',\n",
    "             'population_usa_2019-07-01_part_2_of_6':'USA_total_2019-07-01',\n",
    "             'population_usa_2019-07-01_part_3_of_6':'USA_total_2019-07-01',\n",
    "             'population_usa_2019-07-01_part_4_of_6':'USA_total_2019-07-01',\n",
    "             'population_usa_2019-07-01_part_5_of_6':'USA_total_2019-07-01',\n",
    "             'population_usa_2019-07-01_part_6_of_6':'USA_total_2019-07-01' }"
   ]
  },
  {
   "cell_type": "code",
   "execution_count": 7,
   "id": "8f0a9c41-932d-4227-8d2a-1b9d3957c191",
   "metadata": {},
   "outputs": [],
   "source": [
    "full_df = full_df.replace({'type': type_dict})"
   ]
  },
  {
   "cell_type": "code",
   "execution_count": 8,
   "id": "e049a322-f2f3-4a2b-bfa0-194ea3a39805",
   "metadata": {},
   "outputs": [],
   "source": [
    "full_df = full_df.pivot(index=['latitude','longitude'], columns='type', values='population') \n",
    "full_df['Total_2020'] = full_df[['USA_men_2020-03-07','USA_women_2020-03-07']].sum(axis=1)"
   ]
  },
  {
   "cell_type": "code",
   "execution_count": 9,
   "id": "3b8b995e-2f5b-4341-85de-1db2ad5653fd",
   "metadata": {},
   "outputs": [],
   "source": [
    "full_df = full_df.fillna(0)\n",
    "full_df = full_df.reset_index()\n",
    "full_df.to_csv('/home/jovyan/data/HighDensityPop/population_howard_county_full.csv')"
   ]
  },
  {
   "cell_type": "code",
   "execution_count": 10,
   "id": "5ca3aaf5-6989-45a0-b1f3-935df419da8a",
   "metadata": {},
   "outputs": [
    {
     "data": {
      "text/html": [
       "<div>\n",
       "<style scoped>\n",
       "    .dataframe tbody tr th:only-of-type {\n",
       "        vertical-align: middle;\n",
       "    }\n",
       "\n",
       "    .dataframe tbody tr th {\n",
       "        vertical-align: top;\n",
       "    }\n",
       "\n",
       "    .dataframe thead th {\n",
       "        text-align: right;\n",
       "    }\n",
       "</style>\n",
       "<table border=\"1\" class=\"dataframe\">\n",
       "  <thead>\n",
       "    <tr style=\"text-align: right;\">\n",
       "      <th>type</th>\n",
       "      <th>latitude</th>\n",
       "      <th>longitude</th>\n",
       "      <th>USA_children_under_five_2020-03-07</th>\n",
       "      <th>USA_elderly_60_plus_2020-03-07</th>\n",
       "      <th>USA_men_2020-03-07</th>\n",
       "      <th>USA_total_2019-07-01</th>\n",
       "      <th>USA_women_2020-03-07</th>\n",
       "      <th>USA_youth_15_24_2020-03-07</th>\n",
       "      <th>Total_2020</th>\n",
       "    </tr>\n",
       "  </thead>\n",
       "  <tbody>\n",
       "    <tr>\n",
       "      <th>0</th>\n",
       "      <td>39.103194</td>\n",
       "      <td>-77.173194</td>\n",
       "      <td>0.243826</td>\n",
       "      <td>0.929588</td>\n",
       "      <td>2.095382</td>\n",
       "      <td>0.0</td>\n",
       "      <td>2.461122</td>\n",
       "      <td>0.457174</td>\n",
       "      <td>4.556504</td>\n",
       "    </tr>\n",
       "    <tr>\n",
       "      <th>1</th>\n",
       "      <td>39.103194</td>\n",
       "      <td>-77.172917</td>\n",
       "      <td>0.243826</td>\n",
       "      <td>0.929588</td>\n",
       "      <td>2.095382</td>\n",
       "      <td>0.0</td>\n",
       "      <td>2.461122</td>\n",
       "      <td>0.457174</td>\n",
       "      <td>4.556504</td>\n",
       "    </tr>\n",
       "    <tr>\n",
       "      <th>2</th>\n",
       "      <td>39.103194</td>\n",
       "      <td>-77.172639</td>\n",
       "      <td>0.243826</td>\n",
       "      <td>0.929588</td>\n",
       "      <td>2.095382</td>\n",
       "      <td>0.0</td>\n",
       "      <td>2.461122</td>\n",
       "      <td>0.457174</td>\n",
       "      <td>4.556504</td>\n",
       "    </tr>\n",
       "    <tr>\n",
       "      <th>3</th>\n",
       "      <td>39.103194</td>\n",
       "      <td>-77.172361</td>\n",
       "      <td>0.243826</td>\n",
       "      <td>0.929588</td>\n",
       "      <td>2.095382</td>\n",
       "      <td>0.0</td>\n",
       "      <td>2.461122</td>\n",
       "      <td>0.457174</td>\n",
       "      <td>4.556504</td>\n",
       "    </tr>\n",
       "    <tr>\n",
       "      <th>4</th>\n",
       "      <td>39.103194</td>\n",
       "      <td>-77.169861</td>\n",
       "      <td>0.317703</td>\n",
       "      <td>0.907723</td>\n",
       "      <td>1.225426</td>\n",
       "      <td>0.0</td>\n",
       "      <td>2.133149</td>\n",
       "      <td>0.317703</td>\n",
       "      <td>3.358575</td>\n",
       "    </tr>\n",
       "    <tr>\n",
       "      <th>...</th>\n",
       "      <td>...</td>\n",
       "      <td>...</td>\n",
       "      <td>...</td>\n",
       "      <td>...</td>\n",
       "      <td>...</td>\n",
       "      <td>...</td>\n",
       "      <td>...</td>\n",
       "      <td>...</td>\n",
       "      <td>...</td>\n",
       "    </tr>\n",
       "    <tr>\n",
       "      <th>484386</th>\n",
       "      <td>39.369306</td>\n",
       "      <td>-76.699306</td>\n",
       "      <td>0.724950</td>\n",
       "      <td>1.933199</td>\n",
       "      <td>2.658149</td>\n",
       "      <td>0.0</td>\n",
       "      <td>3.866398</td>\n",
       "      <td>0.000000</td>\n",
       "      <td>6.524547</td>\n",
       "    </tr>\n",
       "    <tr>\n",
       "      <th>484387</th>\n",
       "      <td>39.369306</td>\n",
       "      <td>-76.697917</td>\n",
       "      <td>0.165703</td>\n",
       "      <td>0.138086</td>\n",
       "      <td>0.938982</td>\n",
       "      <td>0.0</td>\n",
       "      <td>1.021834</td>\n",
       "      <td>0.276171</td>\n",
       "      <td>1.960816</td>\n",
       "    </tr>\n",
       "    <tr>\n",
       "      <th>484388</th>\n",
       "      <td>39.369306</td>\n",
       "      <td>-76.697639</td>\n",
       "      <td>0.165703</td>\n",
       "      <td>0.138086</td>\n",
       "      <td>0.938982</td>\n",
       "      <td>0.0</td>\n",
       "      <td>1.021834</td>\n",
       "      <td>0.276171</td>\n",
       "      <td>1.960816</td>\n",
       "    </tr>\n",
       "    <tr>\n",
       "      <th>484389</th>\n",
       "      <td>39.369306</td>\n",
       "      <td>-76.697361</td>\n",
       "      <td>0.165703</td>\n",
       "      <td>0.138086</td>\n",
       "      <td>0.938982</td>\n",
       "      <td>0.0</td>\n",
       "      <td>1.021834</td>\n",
       "      <td>0.276171</td>\n",
       "      <td>1.960816</td>\n",
       "    </tr>\n",
       "    <tr>\n",
       "      <th>484390</th>\n",
       "      <td>39.369306</td>\n",
       "      <td>-76.697083</td>\n",
       "      <td>0.165703</td>\n",
       "      <td>0.138086</td>\n",
       "      <td>0.938982</td>\n",
       "      <td>0.0</td>\n",
       "      <td>1.021834</td>\n",
       "      <td>0.276171</td>\n",
       "      <td>1.960816</td>\n",
       "    </tr>\n",
       "  </tbody>\n",
       "</table>\n",
       "<p>484391 rows × 9 columns</p>\n",
       "</div>"
      ],
      "text/plain": [
       "type     latitude  longitude  USA_children_under_five_2020-03-07  \\\n",
       "0       39.103194 -77.173194                            0.243826   \n",
       "1       39.103194 -77.172917                            0.243826   \n",
       "2       39.103194 -77.172639                            0.243826   \n",
       "3       39.103194 -77.172361                            0.243826   \n",
       "4       39.103194 -77.169861                            0.317703   \n",
       "...           ...        ...                                 ...   \n",
       "484386  39.369306 -76.699306                            0.724950   \n",
       "484387  39.369306 -76.697917                            0.165703   \n",
       "484388  39.369306 -76.697639                            0.165703   \n",
       "484389  39.369306 -76.697361                            0.165703   \n",
       "484390  39.369306 -76.697083                            0.165703   \n",
       "\n",
       "type    USA_elderly_60_plus_2020-03-07  USA_men_2020-03-07  \\\n",
       "0                             0.929588            2.095382   \n",
       "1                             0.929588            2.095382   \n",
       "2                             0.929588            2.095382   \n",
       "3                             0.929588            2.095382   \n",
       "4                             0.907723            1.225426   \n",
       "...                                ...                 ...   \n",
       "484386                        1.933199            2.658149   \n",
       "484387                        0.138086            0.938982   \n",
       "484388                        0.138086            0.938982   \n",
       "484389                        0.138086            0.938982   \n",
       "484390                        0.138086            0.938982   \n",
       "\n",
       "type    USA_total_2019-07-01  USA_women_2020-03-07  \\\n",
       "0                        0.0              2.461122   \n",
       "1                        0.0              2.461122   \n",
       "2                        0.0              2.461122   \n",
       "3                        0.0              2.461122   \n",
       "4                        0.0              2.133149   \n",
       "...                      ...                   ...   \n",
       "484386                   0.0              3.866398   \n",
       "484387                   0.0              1.021834   \n",
       "484388                   0.0              1.021834   \n",
       "484389                   0.0              1.021834   \n",
       "484390                   0.0              1.021834   \n",
       "\n",
       "type    USA_youth_15_24_2020-03-07  Total_2020  \n",
       "0                         0.457174    4.556504  \n",
       "1                         0.457174    4.556504  \n",
       "2                         0.457174    4.556504  \n",
       "3                         0.457174    4.556504  \n",
       "4                         0.317703    3.358575  \n",
       "...                            ...         ...  \n",
       "484386                    0.000000    6.524547  \n",
       "484387                    0.276171    1.960816  \n",
       "484388                    0.276171    1.960816  \n",
       "484389                    0.276171    1.960816  \n",
       "484390                    0.276171    1.960816  \n",
       "\n",
       "[484391 rows x 9 columns]"
      ]
     },
     "execution_count": 10,
     "metadata": {},
     "output_type": "execute_result"
    }
   ],
   "source": [
    "full_df"
   ]
  },
  {
   "cell_type": "markdown",
   "id": "19171152-88e9-42f3-be6b-e67072c75e4f",
   "metadata": {},
   "source": [
    "## Write dataframe to table\n"
   ]
  },
  {
   "cell_type": "code",
   "execution_count": 11,
   "id": "5b6bd84e-d73f-447d-a0ba-6ddbb261145a",
   "metadata": {},
   "outputs": [],
   "source": [
    "import geopandas as gpd\n",
    "from sqlalchemy import create_engine\n",
    "import psycopg2 as pg\n",
    "import psycopg2.extras as extras"
   ]
  },
  {
   "cell_type": "code",
   "execution_count": 12,
   "id": "44257b92-bcc7-46e1-a033-a67f2dffeb44",
   "metadata": {},
   "outputs": [],
   "source": [
    "gdf = gpd.GeoDataFrame(full_df, \n",
    "                       geometry=gpd.points_from_xy(full_df['longitude'], full_df['latitude']), \n",
    "                       crs=\"EPSG:4326\")\n",
    "gdf = gdf.set_geometry(\"geometry\")"
   ]
  },
  {
   "cell_type": "code",
   "execution_count": 13,
   "id": "51059cf6-a9eb-4f52-afec-c679fcfe5cb8",
   "metadata": {},
   "outputs": [],
   "source": [
    "gdf.to_parquet('./data/high_density_pop.parq')"
   ]
  },
  {
   "cell_type": "code",
   "execution_count": 18,
   "id": "9e69bd8e-7359-48ad-a4cb-41c6c80e8211",
   "metadata": {
    "scrolled": true
   },
   "outputs": [],
   "source": [
    "# https://geopandas.org/en/stable/docs/reference/api/geopandas.GeoDataFrame.to_postgis.html\n",
    "# conn = pg.connect(database=\"deer\", user='gmu', password='super_secret_password', host=HOST, port=PORT) \n",
    "engine = create_engine(f\"postgresql://gmu:super_secret_password@{HOST}:{PORT}/deer\")  \n",
    "gdf.to_postgis(\"high_res_pop\", engine, schema = \"pop\", if_exists='append')  \n"
   ]
  },
  {
   "cell_type": "markdown",
   "id": "70932d7e-f6b8-4365-aaaa-981edd27b91f",
   "metadata": {},
   "source": [
    "## Refresh Materialized Views!"
   ]
  },
  {
   "cell_type": "code",
   "execution_count": 19,
   "id": "bd69cfaf-210d-4814-969f-d75bb5aeffc9",
   "metadata": {},
   "outputs": [],
   "source": [
    "SQL = '''\n",
    "REFRESH MATERIALIZED VIEW deer.lead_lag_positions WITH DATA;\n",
    "REFRESH MATERIALIZED VIEW deer.monthly_hull WITH DATA;\n",
    "REFRESH MATERIALIZED VIEW deer.heatmap_hex_grid_hourly WITH DATA;\n",
    "REFRESH MATERIALIZED VIEW deer.heatmap_hex_grid WITH DATA;\n",
    "REFRESH MATERIALIZED VIEW pop.population_hex_summary WITH DATA; \n",
    "REFRESH MATERIALIZED VIEW postgisftw.commercial_poi WITH DATA;\n",
    "REFRESH MATERIALIZED VIEW pop.annual_raw_visit_counts_kde_2019 WITH DATA;\n",
    "REFRESH MATERIALIZED VIEW pop.annual_raw_visit_counts_kde_2018 WITH DATA; \n",
    "\n",
    "REFRESH MATERIALIZED VIEW postgisftw.hex_environmental_features_30m WITH DATA; \n",
    "'''\n"
   ]
  },
  {
   "cell_type": "code",
   "execution_count": 20,
   "id": "c2681428-37a4-4d94-9209-9b8970913053",
   "metadata": {},
   "outputs": [
    {
     "name": "stdout",
     "output_type": "stream",
     "text": [
      "CPU times: user 286 ms, sys: 922 ms, total: 1.21 s\n",
      "Wall time: 50.7 s\n"
     ]
    }
   ],
   "source": [
    "%%time\n",
    "\n",
    "conn = pg.connect(\n",
    "    host=HOST, \n",
    "    port=PORT, \n",
    "    dbname='deer', \n",
    "    user='gmu', \n",
    "    password='super_secret_password', \n",
    "    connect_timeout=5\n",
    ") \n",
    "cursor = conn.cursor()\n",
    "cursor.execute(SQL)\n",
    "conn.commit()\n",
    "cursor.close()\n",
    "conn.close()"
   ]
  }
 ],
 "metadata": {
  "kernelspec": {
   "display_name": "Python 3 (ipykernel)",
   "language": "python",
   "name": "python3"
  },
  "language_info": {
   "codemirror_mode": {
    "name": "ipython",
    "version": 3
   },
   "file_extension": ".py",
   "mimetype": "text/x-python",
   "name": "python",
   "nbconvert_exporter": "python",
   "pygments_lexer": "ipython3",
   "version": "3.11.9"
  }
 },
 "nbformat": 4,
 "nbformat_minor": 5
}
